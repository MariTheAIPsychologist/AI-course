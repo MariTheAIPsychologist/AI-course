{
  "nbformat": 4,
  "nbformat_minor": 0,
  "metadata": {
    "colab": {
      "provenance": [],
      "collapsed_sections": [],
      "mount_file_id": "1kjsAbBYcn5AXZVglPpJ8fU-1IbYZ-Rei",
      "authorship_tag": "ABX9TyP4xWJluFyiP5Qx5mKy6Qji",
      "include_colab_link": true
    },
    "kernelspec": {
      "name": "python3",
      "display_name": "Python 3"
    },
    "language_info": {
      "name": "python"
    }
  },
  "cells": [
    {
      "cell_type": "markdown",
      "metadata": {
        "id": "view-in-github",
        "colab_type": "text"
      },
      "source": [
        "<a href=\"https://colab.research.google.com/github/MariTheAIPsychologist/AI-course/blob/main/Search_Science_For_Our_Tomorrows.ipynb\" target=\"_parent\"><img src=\"https://colab.research.google.com/assets/colab-badge.svg\" alt=\"Open In Colab\"/></a>"
      ]
    },
    {
      "cell_type": "code",
      "source": [
        "!pip install PyPDF2"
      ],
      "metadata": {
        "colab": {
          "base_uri": "https://localhost:8080/"
        },
        "id": "r_gysQud-Yv5",
        "outputId": "7d2ac2ca-1400-4d92-8575-5dec557b8bf0"
      },
      "execution_count": 1,
      "outputs": [
        {
          "output_type": "stream",
          "name": "stdout",
          "text": [
            "Looking in indexes: https://pypi.org/simple, https://us-python.pkg.dev/colab-wheels/public/simple/\n",
            "Collecting PyPDF2\n",
            "  Downloading PyPDF2-2.11.0-py3-none-any.whl (220 kB)\n",
            "\u001b[K     |████████████████████████████████| 220 kB 24.5 MB/s \n",
            "\u001b[?25hRequirement already satisfied: typing-extensions>=3.10.0.0 in /usr/local/lib/python3.7/dist-packages (from PyPDF2) (4.1.1)\n",
            "Installing collected packages: PyPDF2\n",
            "Successfully installed PyPDF2-2.11.0\n"
          ]
        }
      ]
    },
    {
      "cell_type": "code",
      "source": [
        "import PyPDF2\n",
        "\n",
        "pdfFileObj = open('19920004782.pdf', 'rb') \n",
        "    \n",
        "# creating a pdf reader object \n",
        "pdfReader = PyPDF2.PdfFileReader(pdfFileObj) \n",
        "    \n",
        "# printing number of pages in pdf file \n",
        "print(pdfReader.numPages) \n",
        "    \n",
        "# creating a page object \n",
        "pageObj = pdfReader.getPage(2) \n",
        "    \n",
        "# extracting text from page \n",
        "print(pageObj.extractText()) \n",
        "    \n",
        "# closing the pdf file object \n",
        "pdfFileObj.close()"
      ],
      "metadata": {
        "colab": {
          "base_uri": "https://localhost:8080/"
        },
        "id": "eUpBMarC_zeu",
        "outputId": "3b5af0cd-9456-47a2-fdf9-b4a92a4e5b90"
      },
      "execution_count": 12,
      "outputs": [
        {
          "output_type": "stream",
          "name": "stderr",
          "text": [
            "WARNING:PyPDF2._reader:Xref table not zero-indexed. ID numbers for objects will be corrected.\n",
            "WARNING:PyPDF2._page: impossible to decode XFormObject /Image3\n"
          ]
        },
        {
          "output_type": "stream",
          "name": "stdout",
          "text": [
            "18\n",
            "SCREECH NOISE SOURCE STRUCTURE OFASUPERSONIC RECTANGULAR JET\n",
            "E.J.Rice\n",
            "National Aeronautics andSpaceAdministration\n",
            "LewisResearch Center\n",
            "Cleveland, Ohio44135\n",
            "and\n",
            "R.Taghavi\n",
            "Sverdrup Technology, Inc.\n",
            "LewisResearch Center Group\n",
            "BrookPark,Ohio44142\n",
            "Abstract\n",
            "Thenear-field ofthescreech noisesource\n",
            "structure ofanunder-expanded supersonic\n",
            "rectangular jetwasstudied indetail. Amin-\n",
            "iatureprobemicrophone wasusedalongwith\n",
            "areference microphone todetermine theam-\n",
            "plitude andphaseofthesoundpressure near\n",
            "andinthehighspeedflowfield.Thetrans-\n",
            "versestructure oftheunsteady pressure field\n",
            "wasinvestigated bymoving theprobemicro-\n",
            "phonesufficiently farintothejetsothatpres-\n",
            "surefall-off wasobserved. Fiveislands ofhigh\n",
            "soundpressure levelhavebeendistinguished\n",
            "whichmaybeassociated withtheactuallocal\n",
            "sources ofsoundproduction. Thesesources of\n",
            "screech noiseareclosely associated withthe\n",
            "jetshockstructure aswouldbeexpected, with\n",
            "thepeakregionofnoiselevelbeingfound\n",
            "slightly downstream ofeachofthefiveob-\n",
            "servedshocks. Thethirdandfourth noise\n",
            "sources havethehighest levelsandareabout\n",
            "equalinstrength. Alloftheapparent noise\n",
            "sources havetheirpeaklevelsinthesubsonic\n",
            "flowregion. Strong cancellations intheacous-\n",
            "ticfieldareobserved inthedownstream and\n",
            "sideline directions whichmayaccount forthe\n",
            "predominant upstream propagation ofthe\n",
            "fundamental tonenoise.\n",
            "Introduction\n",
            "Aresearch program isunderway at\n",
            "NASA Lewistouseunsteady aerodynamicexcitation tocauseenhanced mixing ofsuper-\n",
            "sonicflowstreams. Itisintended thatthe\n",
            "excitation sourcebeanatural sourcesuchasa\n",
            "screech toneorsomeotherinduced acoustic\n",
            "resonance whichfeedsonthesteady flow\n",
            "energy andproduces averyhighamplitude\n",
            "acoustic fieldatthenozzlelip.Afirststepin\n",
            "thisresearch istothoroughly investigate the\n",
            "fundamental screech toneacoustic nearfield.\n",
            "Thisinformation willbeusedtocombine sev-\n",
            "eralelements toproduce amutually beneficial\n",
            "interaction andenhanced mixing ofamulti-\n",
            "element mixer-ejector. Thekeyissues\n",
            "involved inthisprogram concern theexcita-\n",
            "tionsource suchasnatural orinduced screech,\n",
            "themixing ofsupersonic flowfromrectangular\n",
            "nozzles, andtheinteraction ofmultiple jets.\n",
            "Excellent models havebeendeveloped onsome\n",
            "overall properties ofscreech noise,suchasthe\n",
            "Strouhal frequency andthedirectivity.\n",
            "PowellImodeled thetwo-dimensional super-\n",
            "sonicjetrecognizing thatthesource ofthe\n",
            "screech toneinvolved theinteraction ofthe\n",
            "flowdisturbances withthemultiple shock\n",
            "structure producing anacoustic feedback to\n",
            "thenozzlelipwhichclosestheloop.Tam2\n",
            "advanced themodeltoinclude therectangular\n",
            "jetwhichisofinterest inthispaper. Other\n",
            "examples offlowself-excitation whichmight\n",
            "beconsidered arethe_whistler nozzle_dis-\n",
            "covered byHillandGreene3'4andstudied by\n",
            "HasanandHussain, sandtheflip-flop jet\n",
            "nozzlestudied byViets.6Thebenefits of\n",
            "enhanced mixing duetotheunsteady\n",
            "$\n",
            "Presently attheUniversity ofKansas, Lawrence, Kansas 66045.\n",
            "\n"
          ]
        }
      ]
    },
    {
      "cell_type": "code",
      "source": [],
      "metadata": {
        "id": "kAIXViM7BWxA"
      },
      "execution_count": null,
      "outputs": []
    }
  ]
}